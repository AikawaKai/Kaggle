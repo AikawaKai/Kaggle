{
 "cells": [
  {
   "cell_type": "code",
   "execution_count": 191,
   "metadata": {
    "collapsed": false
   },
   "outputs": [
    {
     "name": "stdout",
     "output_type": "stream",
     "text": [
      "AxesSubplot(0.125,0.125;0.775x0.755)\nThe survive rate is: 0.3838383838383838\n"
     ]
    },
    {
     "data": {
      "image/png": "[encoded data removed]",
      "text/plain": [
       "<Figure size 432x288 with 1 Axes>"
      ]
     },
     "metadata": {},
     "output_type": "display_data"
    }
   ],
   "source": [
    "import pandas as pd\n",
    "from collections import Counter\n",
    "base_path = \"PycharmProjects/KAGGLE/Titanic/\"\n",
    "data = pd.read_csv(base_path+\"train.csv\")\n",
    "survived = Counter(data['Survived'])\n",
    "not_survived = survived[0]\n",
    "survived = survived[1]\n",
    "surivive_rate = survived/(not_survived+survived)\n",
    "print(data['Survived'].value_counts().plot(kind='bar'))\n",
    "print(\"The survive rate is: {}\".format(surivive_rate))\n"
   ]
  },
  {
   "cell_type": "code",
   "execution_count": 192,
   "metadata": {},
   "outputs": [
    {
     "data": {
      "text/plain": [
       "PassengerId    False\nSurvived       False\nPclass         False\nName           False\nSex            False\nAge             True\nSibSp          False\nParch          False\nTicket         False\nFare           False\nCabin           True\nEmbarked        True\ndtype: bool"
      ]
     },
     "execution_count": 192,
     "metadata": {},
     "output_type": "execute_result"
    }
   ],
   "source": [
    "#Let's find the columns with NaN values\n",
    "data.isnull().any()"
   ]
  },
  {
   "cell_type": "code",
   "execution_count": 193,
   "metadata": {},
   "outputs": [],
   "source": [
    "#Let's fill Age with the mean value\n",
    "data[\"Age\"].fillna(data[\"Age\"].mean(), inplace=True)\n"
   ]
  },
  {
   "cell_type": "code",
   "execution_count": 194,
   "metadata": {},
   "outputs": [
    {
     "data": {
      "text/plain": [
       "PassengerId    False\nSurvived       False\nPclass         False\nName           False\nSex            False\nAge            False\nSibSp          False\nParch          False\nTicket         False\nFare           False\nCabin           True\nEmbarked        True\ndtype: bool"
      ]
     },
     "execution_count": 194,
     "metadata": {},
     "output_type": "execute_result"
    }
   ],
   "source": [
    "# Let's check if there are any NaN values in age \n",
    "data.isnull().any()\n"
   ]
  },
  {
   "cell_type": "code",
   "execution_count": 195,
   "metadata": {},
   "outputs": [
    {
     "data": {
      "text/plain": [
       "687"
      ]
     },
     "execution_count": 195,
     "metadata": {},
     "output_type": "execute_result"
    }
   ],
   "source": [
    "#How many NaN for the cabin column\n",
    "data['Cabin'].isna().sum()"
   ]
  },
  {
   "cell_type": "code",
   "execution_count": 196,
   "metadata": {},
   "outputs": [
    {
     "data": {
      "text/plain": [
       "PassengerId    False\nSurvived       False\nPclass         False\nName           False\nSex            False\nAge            False\nSibSp          False\nParch          False\nTicket         False\nFare           False\nCabin          False\nEmbarked        True\ndtype: bool"
      ]
     },
     "execution_count": 196,
     "metadata": {},
     "output_type": "execute_result"
    }
   ],
   "source": [
    "#Let's use only the first cabin letter and replace the missing values with 0\n",
    "data['Cabin'] = data['Cabin'].str[0:1]\n",
    "Counter(data['Cabin'])\n",
    "data['Cabin'].fillna('0', inplace=True)\n",
    "data.isnull().any()"
   ]
  },
  {
   "cell_type": "code",
   "execution_count": 197,
   "metadata": {},
   "outputs": [
    {
     "data": {
      "text/plain": [
       "PassengerId    False\nSurvived       False\nPclass         False\nName           False\nSex            False\nAge            False\nSibSp          False\nParch          False\nTicket         False\nFare           False\nCabin          False\nEmbarked       False\ndtype: bool"
      ]
     },
     "execution_count": 197,
     "metadata": {},
     "output_type": "execute_result"
    }
   ],
   "source": [
    "#Let's replace the missin value with the most frequent one \n",
    "c = Counter(data['Embarked'])\n",
    "data['Embarked'].fillna(c.most_common(1)[0][0], inplace=True)\n",
    "data.isnull().any()\n"
   ]
  },
  {
   "cell_type": "code",
   "execution_count": 198,
   "metadata": {
    "collapsed": true
   },
   "outputs": [
    {
     "name": "stdout",
     "output_type": "stream",
     "text": [
      "[0.82222222 0.74444444 0.74157303 0.87640449 0.87640449 0.83146067\n 0.79775281 0.80898876 0.85393258 0.875     ]\n"
     ]
    }
   ],
   "source": [
    "from sklearn.ensemble import RandomForestClassifier\n",
    "from sklearn.model_selection import cross_val_score\n",
    "from sklearn.preprocessing import OneHotEncoder\n",
    "from sklearn import preprocessing\n",
    "le = preprocessing.LabelEncoder()\n",
    "\n",
    "def transpose(X):\n",
    "    return [[X[i][j] for i in range(len(X))]for j in range(len(X[0]))]\n",
    "\n",
    "rf = RandomForestClassifier(n_estimators=10)\n",
    "X = []\n",
    "for key in [\"Sex\", \"Pclass\", \"SibSp\", \"Parch\", \"Ticket\", \"Cabin\", \"Embarked\"]:\n",
    "    le.fit(data[key].values)\n",
    "    new_val = le.transform(data[key])\n",
    "    X.append(new_val)\n",
    "X.append(data[\"Age\"].values)\n",
    "X.append(data[\"Fare\"].values)\n",
    "X = list(map(list, X))\n",
    "X = transpose(X)\n",
    "Y = data['Survived'].values\n",
    "print(cross_val_score(rf, X, Y, scoring='accuracy', cv = 10))"
   ]
  },
  {
   "cell_type": "code",
   "execution_count": 199,
   "metadata": {},
   "outputs": [],
   "source": [
    "#Let's do the same transformations\n",
    "data_test = pd.read_csv(base_path+\"test.csv\")\n",
    "data_test[\"Age\"].fillna(data_test[\"Age\"].mean(), inplace=True)\n",
    "data_test[\"Fare\"].fillna(data_test[\"Fare\"].mean(), inplace=True)\n",
    "data_test['Cabin'] = data_test['Cabin'].str[0:1]\n",
    "data_test['Cabin'].fillna('0', inplace=True)\n",
    "data_test.isnull().any()\n",
    "\n",
    "X_test = []\n",
    "for key in [\"Sex\", \"Pclass\", \"SibSp\", \"Parch\", \"Ticket\", \"Cabin\", \"Embarked\"]:\n",
    "    le.fit(data_test[key].values)\n",
    "    new_val = le.transform(data_test[key])\n",
    "    X_test.append(new_val)\n",
    "X_test.append(data_test[\"Age\"].values)\n",
    "X_test.append(data_test[\"Fare\"].values)\n",
    "X_test = transpose(X_test)\n"
   ]
  },
  {
   "cell_type": "code",
   "execution_count": 200,
   "metadata": {},
   "outputs": [],
   "source": [
    "rf = RandomForestClassifier(n_estimators=10)\n",
    "rf.fit(X,Y)\n",
    "values = rf.predict(X_test)\n",
    "ids = data_test['PassengerId'].values\n",
    "result = pd.DataFrame({\"PassengerId\":ids, \"Survived\":values})\n",
    "result.to_csv(base_path+\"submission.csv\", index_label=False, index=False)\n",
    "#This leads to a score of 0.75598 on KAGGLE"
   ]
  },
  {
   "cell_type": "code",
   "execution_count": 201,
   "metadata": {},
   "outputs": [
    {
     "name": "stdout",
     "output_type": "stream",
     "text": [
      "[0.77777778 0.8        0.73033708 0.88764045 0.88764045 0.80898876\n 0.82022472 0.79775281 0.88764045 0.86363636]\n"
     ]
    }
   ],
   "source": [
    "#let's create a feature in which we extract \"Mr\" and \"Miss\" string from the names\n",
    "def replace_names(name):\n",
    "    if \"Mr.\" in name:\n",
    "        return \"Mr\"\n",
    "    if \"Miss\" in name:\n",
    "        return \"Miss\"\n",
    "    if \"Mrs\" in name:\n",
    "        return \"Mrs\"\n",
    "    if \"Ms\" in name:\n",
    "        return \"Ms\"\n",
    "    return \"ch\"\n",
    "\n",
    "data[\"Name\"] = data[\"Name\"].apply(replace_names)\n",
    "data_test[\"Name\"] = data_test[\"Name\"].apply(replace_names)\n",
    "le.fit(data[\"Name\"])\n",
    "X_name = le.transform(data[\"Name\"])\n",
    "X_test_name = le.transform(data_test[\"Name\"])\n",
    "X = transpose(X)\n",
    "X.append(X_name)\n",
    "X = transpose(X)\n",
    "X_test = transpose(X_test)\n",
    "X_test.append(X_test_name)\n",
    "X_test = transpose(X_test)\n",
    "rf = RandomForestClassifier(n_estimators=10)\n",
    "print(cross_val_score(rf, X, Y, scoring='accuracy', cv = 10))\n",
    "rf = RandomForestClassifier(n_estimators=10)\n",
    "rf.fit(X, Y)\n",
    "values = rf.predict(X_test)\n",
    "ids = data_test['PassengerId'].values\n",
    "result = pd.DataFrame({\"PassengerId\":ids, \"Survived\":values})\n",
    "result.to_csv(base_path+\"submission1.csv\", index_label=False, index=False)\n",
    "#This leads to a score of 0.76555 on KAGGLE"
   ]
  },
  {
   "cell_type": "code",
   "execution_count": null,
   "metadata": {
    "collapsed": false
   },
   "outputs": [],
   "source": [
    "def split_ticket(ticket):\n",
    "    split_ = ticket.split(\" \")\n",
    "    if len(split_) > 1:\n",
    "        return split_[0]\n",
    "    return \"0\"\n",
    "        \n",
    "\n",
    "data[\"Ticket\"] = data[\"Ticket\"].apply(split_ticket)\n",
    "data_test[\"Ticket\"] = data_test[\"Ticket\"].apply(split_ticket)\n",
    "X_test = []\n",
    "for key in [\"Sex\", \"Pclass\", \"SibSp\", \"Parch\", \"Ticket\", \"Cabin\", \"Embarked\"]:\n",
    "    le.fit(data_test[key].values)\n",
    "    new_val = le.transform(data_test[key])\n",
    "    X_test.append(new_val)\n",
    "X_test.append(data_test[\"Age\"].values)\n",
    "X_test.append(data_test[\"Fare\"].values)\n",
    "X_test = transpose(X_test)\n",
    "X = []\n",
    "for key in [\"Sex\", \"Pclass\", \"SibSp\", \"Parch\", \"Ticket\", \"Cabin\", \"Embarked\"]:\n",
    "    le.fit(data[key].values)\n",
    "    new_val = le.transform(data[key])\n",
    "    X.append(new_val)\n",
    "X.append(data[\"Age\"].values)\n",
    "X.append(data[\"Fare\"].values)\n",
    "X = transpose(X)\n",
    "rf = RandomForestClassifier(n_estimators=10)\n",
    "print(cross_val_score(rf, X, Y, scoring='accuracy', cv = 10))\n",
    "rf = RandomForestClassifier(n_estimators=10)\n",
    "rf.fit(X, Y)\n",
    "values = rf.predict(X_test)\n",
    "ids = data_test['PassengerId'].values\n",
    "result = pd.DataFrame({\"PassengerId\":ids, \"Survived\":values})\n",
    "result.to_csv(base_path+\"submission2.csv\", index_label=False, index=False)\n",
    "#This leads to a score of 0.76076 on KAGGLE\n",
    "\n"
   ]
  },
  {
   "cell_type": "code",
   "execution_count": 222,
   "metadata": {},
   "outputs": [
    {
     "data": {
      "text/plain": [
       "GridSearchCV(cv=10, error_score='raise',\n       estimator=RandomForestClassifier(bootstrap=True, class_weight=None, criterion='gini',\n            max_depth=None, max_features='auto', max_leaf_nodes=None,\n            min_impurity_decrease=0.0, min_impurity_split=None,\n            min_samples_leaf=1, min_samples_split=2,\n            min_weight_fraction_leaf=0.0, n_estimators=10, n_jobs=1,\n            oob_score=False, random_state=None, verbose=0,\n            warm_start=False),\n       fit_params={}, iid=True, n_jobs=1,\n       param_grid={'n_estimators': [9, 18, 27, 36, 45, 54, 63], 'max_depth': [1, 5, 10, 15, 20, 25, 30], 'min_samples_leaf': [1, 2, 4, 6, 8, 10]},\n       pre_dispatch='2*n_jobs', refit=True, scoring=None, verbose=0)"
      ]
     },
     "execution_count": 222,
     "metadata": {},
     "output_type": "execute_result"
    }
   ],
   "source": [
    "from sklearn.grid_search import GridSearchCV\n",
    "clf = RandomForestClassifier()\n",
    "param_grid = { \"n_estimators\" : [9, 18, 27, 36, 45, 54, 63],\n",
    "               \"max_depth\" : [1, 5, 10, 15, 20, 25, 30],\n",
    "               \"min_samples_leaf\" : [1, 2, 4, 6, 8, 10]}\n",
    "CV_rfc = GridSearchCV(estimator=clf, param_grid=param_grid, cv= 10)\n",
    "CV_rfc.fit(X,Y)"
   ]
  },
  {
   "cell_type": "code",
   "execution_count": 226,
   "metadata": {},
   "outputs": [],
   "source": [
    "values = CV_rfc.predict(X_test)\n",
    "ids = data_test['PassengerId'].values\n",
    "result = pd.DataFrame({\"PassengerId\":ids, \"Survived\":values})\n",
    "result.to_csv(base_path+\"submission3.csv\", index_label=False, index=False)\n",
    "#This leads to a score of 0.72727 on KAGGLE"
   ]
  },
  {
   "cell_type": "code",
   "execution_count": 229,
   "metadata": {},
   "outputs": [
    {
     "data": {
      "text/plain": [
       "{'max_depth': 30, 'min_samples_leaf': 2, 'n_estimators': 18}"
      ]
     },
     "execution_count": 229,
     "metadata": {},
     "output_type": "execute_result"
    }
   ],
   "source": [
    "CV_rfc.best_params_"
   ]
  }
 ],
 "metadata": {
  "kernelspec": {
   "display_name": "Python 2",
   "language": "python",
   "name": "python2"
  },
  "language_info": {
   "codemirror_mode": {
    "name": "ipython",
    "version": 2
   },
   "file_extension": ".py",
   "mimetype": "text/x-python",
   "name": "python",
   "nbconvert_exporter": "python",
   "pygments_lexer": "ipython2",
   "version": "2.7.6"
  }
 },
 "nbformat": 4,
 "nbformat_minor": 0
}
